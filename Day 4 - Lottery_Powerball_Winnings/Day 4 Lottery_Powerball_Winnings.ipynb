{
 "cells": [
  {
   "cell_type": "code",
   "execution_count": 1,
   "id": "6a043b7b-6599-4e10-bff3-c9c24d47ff1a",
   "metadata": {},
   "outputs": [],
   "source": [
    "import numpy as np \n",
    "import pandas as pd \n",
    "import matplotlib.pyplot as plt\n",
    "import warnings\n",
    "warnings.filterwarnings('ignore')"
   ]
  },
  {
   "cell_type": "code",
   "execution_count": 2,
   "id": "dbe8205e-3786-4ae0-be5e-4ea1959279d4",
   "metadata": {},
   "outputs": [],
   "source": [
    "df = pd.read_csv('Lottery_Powerball_Winning_Numbers__Beginning_2010.csv')"
   ]
  },
  {
   "cell_type": "code",
   "execution_count": 3,
   "id": "d2f5dddf-8858-41eb-9eae-73e8f66f22d6",
   "metadata": {},
   "outputs": [
    {
     "data": {
      "text/plain": [
       "<bound method NDFrame.head of        Draw Date    Winning Numbers  Multiplier\n",
       "0     09/26/2020  11 21 27 36 62 24         3.0\n",
       "1     09/30/2020  14 18 36 49 67 18         2.0\n",
       "2     10/03/2020  18 31 36 43 47 20         2.0\n",
       "3     10/07/2020  06 24 30 53 56 19         2.0\n",
       "4     10/10/2020  05 18 23 40 50 18         3.0\n",
       "...          ...                ...         ...\n",
       "1821  08/11/2025  06 16 33 40 62 02         2.0\n",
       "1822  08/13/2025  04 11 40 44 50 04         3.0\n",
       "1823  08/16/2025  23 40 49 65 69 23         3.0\n",
       "1824  08/18/2025  15 46 61 63 64 01         3.0\n",
       "1825  08/20/2025  31 59 62 65 68 05         2.0\n",
       "\n",
       "[1826 rows x 3 columns]>"
      ]
     },
     "execution_count": 3,
     "metadata": {},
     "output_type": "execute_result"
    }
   ],
   "source": [
    "df.head"
   ]
  },
  {
   "cell_type": "code",
   "execution_count": 4,
   "id": "ff41b274-1ac0-4b34-81b0-f972e2d930cc",
   "metadata": {},
   "outputs": [
    {
     "name": "stdout",
     "output_type": "stream",
     "text": [
      "<class 'pandas.core.frame.DataFrame'>\n",
      "RangeIndex: 1826 entries, 0 to 1825\n",
      "Data columns (total 3 columns):\n",
      " #   Column           Non-Null Count  Dtype  \n",
      "---  ------           --------------  -----  \n",
      " 0   Draw Date        1826 non-null   object \n",
      " 1   Winning Numbers  1826 non-null   object \n",
      " 2   Multiplier       1616 non-null   float64\n",
      "dtypes: float64(1), object(2)\n",
      "memory usage: 42.9+ KB\n"
     ]
    }
   ],
   "source": [
    "df.info()"
   ]
  },
  {
   "cell_type": "code",
   "execution_count": 5,
   "id": "4aaa9f51-63c6-40cd-b3ce-5152876d099d",
   "metadata": {},
   "outputs": [
    {
     "data": {
      "text/plain": [
       "<bound method DataFrame.info of        Draw Date    Winning Numbers  Multiplier\n",
       "0     09/26/2020  11 21 27 36 62 24         3.0\n",
       "1     09/30/2020  14 18 36 49 67 18         2.0\n",
       "2     10/03/2020  18 31 36 43 47 20         2.0\n",
       "3     10/07/2020  06 24 30 53 56 19         2.0\n",
       "4     10/10/2020  05 18 23 40 50 18         3.0\n",
       "...          ...                ...         ...\n",
       "1821  08/11/2025  06 16 33 40 62 02         2.0\n",
       "1822  08/13/2025  04 11 40 44 50 04         3.0\n",
       "1823  08/16/2025  23 40 49 65 69 23         3.0\n",
       "1824  08/18/2025  15 46 61 63 64 01         3.0\n",
       "1825  08/20/2025  31 59 62 65 68 05         2.0\n",
       "\n",
       "[1826 rows x 3 columns]>"
      ]
     },
     "execution_count": 5,
     "metadata": {},
     "output_type": "execute_result"
    }
   ],
   "source": [
    "df.info"
   ]
  },
  {
   "cell_type": "code",
   "execution_count": 6,
   "id": "524c08e2-2d7e-4e7c-b914-d97fc6b6d4b5",
   "metadata": {},
   "outputs": [
    {
     "data": {
      "text/html": [
       "<div>\n",
       "<style scoped>\n",
       "    .dataframe tbody tr th:only-of-type {\n",
       "        vertical-align: middle;\n",
       "    }\n",
       "\n",
       "    .dataframe tbody tr th {\n",
       "        vertical-align: top;\n",
       "    }\n",
       "\n",
       "    .dataframe thead th {\n",
       "        text-align: right;\n",
       "    }\n",
       "</style>\n",
       "<table border=\"1\" class=\"dataframe\">\n",
       "  <thead>\n",
       "    <tr style=\"text-align: right;\">\n",
       "      <th></th>\n",
       "      <th>Multiplier</th>\n",
       "    </tr>\n",
       "  </thead>\n",
       "  <tbody>\n",
       "    <tr>\n",
       "      <th>count</th>\n",
       "      <td>1616.000000</td>\n",
       "    </tr>\n",
       "    <tr>\n",
       "      <th>mean</th>\n",
       "      <td>2.785272</td>\n",
       "    </tr>\n",
       "    <tr>\n",
       "      <th>std</th>\n",
       "      <td>1.174679</td>\n",
       "    </tr>\n",
       "    <tr>\n",
       "      <th>min</th>\n",
       "      <td>2.000000</td>\n",
       "    </tr>\n",
       "    <tr>\n",
       "      <th>25%</th>\n",
       "      <td>2.000000</td>\n",
       "    </tr>\n",
       "    <tr>\n",
       "      <th>50%</th>\n",
       "      <td>2.000000</td>\n",
       "    </tr>\n",
       "    <tr>\n",
       "      <th>75%</th>\n",
       "      <td>3.000000</td>\n",
       "    </tr>\n",
       "    <tr>\n",
       "      <th>max</th>\n",
       "      <td>10.000000</td>\n",
       "    </tr>\n",
       "  </tbody>\n",
       "</table>\n",
       "</div>"
      ],
      "text/plain": [
       "        Multiplier\n",
       "count  1616.000000\n",
       "mean      2.785272\n",
       "std       1.174679\n",
       "min       2.000000\n",
       "25%       2.000000\n",
       "50%       2.000000\n",
       "75%       3.000000\n",
       "max      10.000000"
      ]
     },
     "execution_count": 6,
     "metadata": {},
     "output_type": "execute_result"
    }
   ],
   "source": [
    "df.describe()"
   ]
  },
  {
   "cell_type": "code",
   "execution_count": 7,
   "id": "3da4e2aa-c209-4e65-a890-59837ef7e477",
   "metadata": {},
   "outputs": [
    {
     "data": {
      "text/plain": [
       "Draw Date            0\n",
       "Winning Numbers      0\n",
       "Multiplier         210\n",
       "dtype: int64"
      ]
     },
     "execution_count": 7,
     "metadata": {},
     "output_type": "execute_result"
    }
   ],
   "source": [
    "df.isnull().sum()"
   ]
  },
  {
   "cell_type": "code",
   "execution_count": 8,
   "id": "96981b2b-b628-4775-9f6a-c1f0410b4b5a",
   "metadata": {},
   "outputs": [],
   "source": [
    "df_filled = df.fillna(1)"
   ]
  },
  {
   "cell_type": "code",
   "execution_count": 9,
   "id": "c3e438b0-3fb7-493f-9032-b4d7d5e82482",
   "metadata": {},
   "outputs": [
    {
     "data": {
      "text/plain": [
       "Draw Date          0\n",
       "Winning Numbers    0\n",
       "Multiplier         0\n",
       "dtype: int64"
      ]
     },
     "execution_count": 9,
     "metadata": {},
     "output_type": "execute_result"
    }
   ],
   "source": [
    "df_filled.isnull().sum()"
   ]
  },
  {
   "cell_type": "code",
   "execution_count": 10,
   "id": "221cc70e-2297-455f-a15c-1a2c9cc30ba3",
   "metadata": {},
   "outputs": [
    {
     "data": {
      "text/plain": [
       "0"
      ]
     },
     "execution_count": 10,
     "metadata": {},
     "output_type": "execute_result"
    }
   ],
   "source": [
    "df_filled.duplicated().sum()"
   ]
  },
  {
   "cell_type": "code",
   "execution_count": 11,
   "id": "54b5c177-052c-4abf-a27c-c88cb8a26156",
   "metadata": {},
   "outputs": [
    {
     "data": {
      "text/plain": [
       "(1826, 3)"
      ]
     },
     "execution_count": 11,
     "metadata": {},
     "output_type": "execute_result"
    }
   ],
   "source": [
    "df.shape"
   ]
  },
  {
   "cell_type": "code",
   "execution_count": 12,
   "id": "60385e4b-ec49-4ce4-bf4e-ae7984d4f9f6",
   "metadata": {},
   "outputs": [
    {
     "data": {
      "text/plain": [
       "Index(['Draw Date', 'Winning Numbers', 'Multiplier'], dtype='object')"
      ]
     },
     "execution_count": 12,
     "metadata": {},
     "output_type": "execute_result"
    }
   ],
   "source": [
    "df.columns\n"
   ]
  },
  {
   "cell_type": "code",
   "execution_count": 13,
   "id": "50b78097-bc0b-4f21-9d1f-f82c60091a9a",
   "metadata": {},
   "outputs": [
    {
     "data": {
      "text/plain": [
       "Draw Date           object\n",
       "Winning Numbers     object\n",
       "Multiplier         float64\n",
       "dtype: object"
      ]
     },
     "execution_count": 13,
     "metadata": {},
     "output_type": "execute_result"
    }
   ],
   "source": [
    "df.dtypes"
   ]
  },
  {
   "cell_type": "code",
   "execution_count": 14,
   "id": "83b49886-cdd7-479c-9708-55248857f2f6",
   "metadata": {},
   "outputs": [],
   "source": [
    "#EDA ends here"
   ]
  },
  {
   "cell_type": "code",
   "execution_count": 15,
   "id": "76568c05-0fd4-499d-8625-f6f91ef13893",
   "metadata": {},
   "outputs": [
    {
     "data": {
      "image/png": "[encoded data removed]",
      "text/plain": [
       "<Figure size 640x480 with 1 Axes>"
      ]
     },
     "metadata": {},
     "output_type": "display_data"
    }
   ],
   "source": [
    "plt.bar(df_filled.index, df_filled['Multiplier'])\n",
    "plt.xlabel('Row Index')\n",
    "plt.ylabel('Multiplyer Value')\n",
    "plt.title('Bar Plot of Multiplyer Column')\n",
    "plt.show()"
   ]
  },
  {
   "cell_type": "code",
   "execution_count": 16,
   "id": "351ac39d-10ac-419b-bae1-c3b71bb77c88",
   "metadata": {},
   "outputs": [
    {
     "data": {
      "image/png": "[encoded data removed]",
      "text/plain": [
       "<Figure size 640x480 with 1 Axes>"
      ]
     },
     "metadata": {},
     "output_type": "display_data"
    }
   ],
   "source": [
    "value_counts = df_filled['Multiplier'].value_counts()\n",
    "plt.bar(value_counts.index.astype(str), value_counts.values)\n",
    "plt.xlabel('Multiplyer Values')\n",
    "plt.ylabel('Count')\n",
    "plt.title('Count of Each Unique Value in Multiplyer Column')\n",
    "plt.show()"
   ]
  },
  {
   "cell_type": "code",
   "execution_count": null,
   "id": "ae2fbc13-0289-44bd-9cb8-45fc25fccea1",
   "metadata": {},
   "outputs": [],
   "source": []
  }
 ],
 "metadata": {
  "kernelspec": {
   "display_name": "Python 3 (ipykernel)",
   "language": "python",
   "name": "python3"
  },
  "language_info": {
   "codemirror_mode": {
    "name": "ipython",
    "version": 3
   },
   "file_extension": ".py",
   "mimetype": "text/x-python",
   "name": "python",
   "nbconvert_exporter": "python",
   "pygments_lexer": "ipython3",
   "version": "3.11.4"
  }
 },
 "nbformat": 4,
 "nbformat_minor": 5
}
